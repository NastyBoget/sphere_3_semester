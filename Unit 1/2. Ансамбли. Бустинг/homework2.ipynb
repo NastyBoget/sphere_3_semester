{
 "cells": [
  {
   "cell_type": "markdown",
   "metadata": {},
   "source": [
    "## Ансамбли. Бустинг\n",
    "\n",
    "### ЗАДАНИЕ I. ДОПОЛНИТЕЛЬНОЕ\n",
    "\n",
    "Дано: набор данных из системы поискового антиспама.\n",
    "\n",
    "Требуется: сравнить классификаторы, основанные на алгоритмических композициях, с классическими алгоритмами классификации и нейросетями.\n",
    "\n",
    "1. Скачать данные и запустить шаблон кода на python:\n",
    "\n",
    "```\n",
    "$ python compos.py -h\n",
    "$ python compos.py -tr spam.train.txt -te spam.test.txt\n",
    "```\n",
    "2. Подобрать параметры трёх алгоритмических композиций, чтобы они превосходили по качеству SVM, логистическую регрессию и двуслойный персептрон.\n",
    "\n",
    "3. Построить графики качества классификации в зависимости от числа базовых моделей."
   ]
  },
  {
   "cell_type": "code",
   "execution_count": 1,
   "metadata": {},
   "outputs": [
    {
     "name": "stdout",
     "output_type": "stream",
     "text": [
      "usage: compos.py [-h] [-tr TRAIN] [-te TEST] [-t TREES] [-fp FEATURES_PERCENT]\n",
      "\n",
      "Random Forest Tutorial\n",
      "\n",
      "optional arguments:\n",
      "  -h, --help            show this help message and exit\n",
      "  -tr TRAIN, --train TRAIN\n",
      "                        Train file name\n",
      "  -te TEST, --test TEST\n",
      "                        Test file name\n",
      "  -t TREES, --trees TREES\n",
      "                        Number of trees in random forest\n",
      "  -fp FEATURES_PERCENT, --features_percent FEATURES_PERCENT\n",
      "                        Percent of features in each tree\n",
      "Build random forest classifier...\n",
      "Build adaboost classifier...\n",
      "Build gbm classifier...\n",
      "Build svm classifier...\n",
      "Random Forest :\n",
      "             precision    recall  f1-score   support\n",
      "\n",
      "        0.0    0.57718   0.75406   0.65387      2033\n",
      "        1.0    0.93243   0.86003   0.89477      8023\n",
      "\n",
      "avg / total    0.86061   0.83860   0.84607     10056\n",
      "final score    0.75481   0.80704   0.77432     10056\n",
      "\n",
      "AdaBoost :\n",
      "             precision    recall  f1-score   support\n",
      "\n",
      "        0.0    0.92398   0.42450   0.58173      2033\n",
      "        1.0    0.87174   0.99115   0.92762      8023\n",
      "\n",
      "avg / total    0.88230   0.87659   0.85769     10056\n",
      "final score    0.89786   0.70782   0.75467     10056\n",
      "\n",
      "Gradient Boosting Machine :\n",
      "             precision    recall  f1-score   support\n",
      "\n",
      "        0.0    0.67580   0.84899   0.75256      2033\n",
      "        1.0    0.95908   0.89680   0.92689      8023\n",
      "\n",
      "avg / total    0.90181   0.88713   0.89165     10056\n",
      "final score    0.81744   0.87289   0.83973     10056\n",
      "\n",
      "SVM :\n",
      "             precision    recall  f1-score   support\n",
      "\n",
      "        0.0    0.76980   0.97541   0.86049      2033\n",
      "        1.0    0.99332   0.92609   0.95852      8023\n",
      "\n",
      "avg / total    0.94813   0.93606   0.93870     10056\n",
      "final score    0.88156   0.95075   0.90951     10056\n",
      "\n"
     ]
    }
   ],
   "source": [
    "!python compos.py -h\n",
    "!python compos.py -tr spam.train.txt -te spam.test.txt"
   ]
  },
  {
   "cell_type": "code",
   "execution_count": 1,
   "metadata": {},
   "outputs": [],
   "source": [
    "import numpy as np\n",
    "import matplotlib.pyplot as plt\n",
    "from sklearn.ensemble import RandomForestClassifier\n",
    "from sklearn.ensemble import AdaBoostClassifier\n",
    "from sklearn.ensemble import GradientBoostingClassifier\n",
    "from sklearn.metrics import f1_score\n",
    "from sklearn import svm\n",
    "from sklearn.linear_model import LogisticRegression"
   ]
  },
  {
   "cell_type": "code",
   "execution_count": 9,
   "metadata": {},
   "outputs": [],
   "source": [
    "train_data = np.loadtxt(\"spam.train.txt\")\n",
    "test_data  = np.loadtxt(\"spam.test.txt\")\n",
    "\n",
    "X_train, y_train = train_data[0::, 1::], train_data[0::, 0]\n",
    "X_test, y_test = test_data[0::, 1::], test_data[0::, 0]"
   ]
  },
  {
   "cell_type": "code",
   "execution_count": 4,
   "metadata": {},
   "outputs": [
    {
     "data": {
      "text/plain": [
       "(7093, 102)"
      ]
     },
     "execution_count": 4,
     "metadata": {},
     "output_type": "execute_result"
    }
   ],
   "source": [
    "X_train.shape"
   ]
  },
  {
   "cell_type": "code",
   "execution_count": 5,
   "metadata": {},
   "outputs": [
    {
     "data": {
      "text/plain": [
       "0.9585241566148487"
      ]
     },
     "execution_count": 5,
     "metadata": {},
     "output_type": "execute_result"
    }
   ],
   "source": [
    "svm_classifier = svm.SVC()\n",
    "svm_classifier.fit(X_train, y_train)\n",
    "y_pred = svm_classifier.predict(X_test)\n",
    "f1_score(y_test, y_pred)"
   ]
  },
  {
   "cell_type": "code",
   "execution_count": 6,
   "metadata": {},
   "outputs": [
    {
     "name": "stderr",
     "output_type": "stream",
     "text": [
      "/Users/anastasiabogatenkova/miniconda3/envs/sphere/lib/python3.7/site-packages/sklearn/linear_model/_logistic.py:940: ConvergenceWarning: lbfgs failed to converge (status=1):\n",
      "STOP: TOTAL NO. of ITERATIONS REACHED LIMIT.\n",
      "\n",
      "Increase the number of iterations (max_iter) or scale the data as shown in:\n",
      "    https://scikit-learn.org/stable/modules/preprocessing.html\n",
      "Please also refer to the documentation for alternative solver options:\n",
      "    https://scikit-learn.org/stable/modules/linear_model.html#logistic-regression\n",
      "  extra_warning_msg=_LOGISTIC_SOLVER_CONVERGENCE_MSG)\n"
     ]
    },
    {
     "data": {
      "text/plain": [
       "0.9354754098360656"
      ]
     },
     "execution_count": 6,
     "metadata": {},
     "output_type": "execute_result"
    }
   ],
   "source": [
    "logreg_classifier = LogisticRegression()\n",
    "logreg_classifier.fit(X_train, y_train)\n",
    "y_pred = logreg_classifier.predict(X_test)\n",
    "f1_score(y_test, y_pred)"
   ]
  },
  {
   "cell_type": "code",
   "execution_count": 48,
   "metadata": {},
   "outputs": [],
   "source": [
    "import torch\n",
    "from torch.nn import MSELoss, Linear, Sigmoid, Module\n",
    "\n",
    "class Net(Module):\n",
    "    def __init__(self, activation=Sigmoid(), latent_size=100):\n",
    "        super().__init__()\n",
    "        self.fc1 = Linear(102, latent_size)\n",
    "        self.fc2 = Linear(latent_size, 1)\n",
    "        self.activation = activation\n",
    "    def forward(self, x):\n",
    "        return self.fc2(self.activation(self.fc1(x)))\n",
    "    \n",
    "def train(network, X_train, y_train, epochs=200, learning_rate=0.01, loss=MSELoss(), optim=torch.optim.Adam):\n",
    "    optimizer = optim(network.parameters(), lr=learning_rate)\n",
    "    for epoch in range(epochs):\n",
    "        optimizer.zero_grad()\n",
    "        y_pred = network(X_train)\n",
    "        loss_value = loss(y_pred, y_train)\n",
    "        loss_value.backward()\n",
    "        optimizer.step()"
   ]
  },
  {
   "cell_type": "code",
   "execution_count": 49,
   "metadata": {
    "scrolled": true
   },
   "outputs": [
    {
     "data": {
      "text/plain": [
       "0.940163132137031"
      ]
     },
     "execution_count": 49,
     "metadata": {},
     "output_type": "execute_result"
    }
   ],
   "source": [
    "perceptron = Net()\n",
    "train(perceptron, torch.from_numpy(X_train).float(), torch.from_numpy(y_train[:,np.newaxis]).float())\n",
    "y_pred = perceptron(torch.from_numpy(X_test).float())\n",
    "f1_score(y_test[:,np.newaxis], (y_pred.detach().numpy() > 0.5).astype(int))"
   ]
  },
  {
   "cell_type": "code",
   "execution_count": 69,
   "metadata": {},
   "outputs": [],
   "source": [
    "params = list(range(50, 1001, 50)) # n_estimators\n",
    "\n",
    "def tune_n_estimators(clf, X_train, y_train):\n",
    "    best_n_estimators = params[0]\n",
    "    res_score = 0\n",
    "    scores = []\n",
    "\n",
    "    for n_estimators in params:\n",
    "        clf = clf.set_params(**{'n_estimators': n_estimators})\n",
    "        clf.fit(X_train, y_train)\n",
    "        y_pred = clf.predict(X_test)\n",
    "        score = f1_score(y_test, y_pred)\n",
    "        scores.append(score)\n",
    "        if score > res_score:\n",
    "            best_n_estimators = n_estimators\n",
    "            res_score = score\n",
    "    return scores, res_score, best_n_estimators\n",
    "\n",
    "def make_plot(scores, clf_name):\n",
    "    plt.figure(figsize=(15, 5))\n",
    "    plt.title('Parameters tuning for ' + clf_name)\n",
    "    plt.xlabel('n_estimators')\n",
    "    plt.ylabel('F1-score')\n",
    "    plt.tick_params(axis='x', labelrotation=90)\n",
    "    plt.plot(params, scores)"
   ]
  },
  {
   "cell_type": "code",
   "execution_count": 70,
   "metadata": {},
   "outputs": [
    {
     "name": "stdout",
     "output_type": "stream",
     "text": [
      "F1-score=0.9679426141052497, n_estimators=900\n"
     ]
    },
    {
     "data": {
      "image/png": "[encoded data removed]",
      "text/plain": [
       "<Figure size 1080x360 with 1 Axes>"
      ]
     },
     "metadata": {
      "needs_background": "light"
     },
     "output_type": "display_data"
    }
   ],
   "source": [
    "forest = RandomForestClassifier()\n",
    "scores, res_score, best_n_estimators = tune_n_estimators(forest, X_train, y_train)\n",
    "print(f'F1-score={res_score}, n_estimators={best_n_estimators}')\n",
    "make_plot(scores, 'RandomForest')"
   ]
  },
  {
   "cell_type": "code",
   "execution_count": 71,
   "metadata": {},
   "outputs": [
    {
     "name": "stdout",
     "output_type": "stream",
     "text": [
      "F1-score=0.9599457727384767, n_estimators=150\n"
     ]
    },
    {
     "data": {
      "image/png": "[encoded data removed]",
      "text/plain": [
       "<Figure size 1080x360 with 1 Axes>"
      ]
     },
     "metadata": {
      "needs_background": "light"
     },
     "output_type": "display_data"
    }
   ],
   "source": [
    "adaboost_classifier = AdaBoostClassifier()\n",
    "scores, res_score, best_n_estimators = tune_n_estimators(adaboost_classifier, X_train, y_train)\n",
    "print(f'F1-score={res_score}, n_estimators={best_n_estimators}')\n",
    "make_plot(scores, 'AdaBoost')"
   ]
  },
  {
   "cell_type": "code",
   "execution_count": 72,
   "metadata": {},
   "outputs": [
    {
     "name": "stdout",
     "output_type": "stream",
     "text": [
      "F1-score=0.975473107569721, n_estimators=250\n"
     ]
    },
    {
     "data": {
      "image/png": "[encoded data removed]",
      "text/plain": [
       "<Figure size 1080x360 with 1 Axes>"
      ]
     },
     "metadata": {
      "needs_background": "light"
     },
     "output_type": "display_data"
    }
   ],
   "source": [
    "gbm_classifier = GradientBoostingClassifier()\n",
    "scores, res_score, best_n_estimators = tune_n_estimators(gbm_classifier, X_train, y_train)\n",
    "print(f'F1-score={res_score}, n_estimators={best_n_estimators}')\n",
    "make_plot(scores, 'GradientBoosting')"
   ]
  },
  {
   "cell_type": "markdown",
   "metadata": {},
   "source": [
    "### ЗАДАНИЕ II. ОСНОВНОЕ\n",
    "\n",
    "Что необходимо сделать: реализовать один из алгоритмов машинного обучения, являющегося композицией алгоритмов."
   ]
  },
  {
   "cell_type": "code",
   "execution_count": 8,
   "metadata": {},
   "outputs": [
    {
     "data": {
      "text/plain": [
       "7"
      ]
     },
     "execution_count": 8,
     "metadata": {},
     "output_type": "execute_result"
    }
   ],
   "source": [
    "def ComputeMyTaskNumber(your_name):\n",
    "    return 1 + hash(your_name) % 21\n",
    "ComputeMyTaskNumber('Bogatenkova_Anastasiya')"
   ]
  },
  {
   "cell_type": "markdown",
   "metadata": {},
   "source": [
    "Вариант 7: Реализация алгоритма BagBoo. В качестве базового алгоритма использовать алгоритм градиентного бустинга с логистической функцией потерь."
   ]
  },
  {
   "cell_type": "code",
   "execution_count": 10,
   "metadata": {},
   "outputs": [],
   "source": [
    "import numpy as np\n",
    "from scipy import stats\n",
    "from sklearn.tree import DecisionTreeRegressor\n",
    "from sklearn.metrics import mean_squared_error"
   ]
  },
  {
   "cell_type": "code",
   "execution_count": 11,
   "metadata": {},
   "outputs": [],
   "source": [
    "class DecisionTree:\n",
    "    \n",
    "    NON_LEAF_TYPE = 0\n",
    "    LEAF_TYPE = 1\n",
    "\n",
    "    def __init__(self, max_depth=None, min_samples_split=2, min_samples_leaf=1):\n",
    "        self.tree = dict()\n",
    "        self.min_samples_split = min_samples_split\n",
    "        self.max_depth = max_depth\n",
    "        self.min_samples_leaf = min_samples_leaf\n",
    "        self.get_feature_ids = self.__get_feature_ids_N\n",
    "\n",
    "    def __get_feature_ids_N(self, n_feature):\n",
    "        return np.arange(n_feature)\n",
    "    \n",
    "    @staticmethod\n",
    "    def _sort_samples(X, y):\n",
    "        sorted_idx = X.argsort(axis=0)\n",
    "        return np.sort(X, axis=0), y[sorted_idx]\n",
    "    \n",
    "    @staticmethod\n",
    "    def _div_samples(X, y, feature_id, threshold):\n",
    "        left_mask = X[:, feature_id] <= threshold\n",
    "        right_mask = ~left_mask\n",
    "        return X[left_mask], X[right_mask], y[left_mask], y[right_mask]\n",
    "\n",
    "    def __fit_node(self, X, y, node_id, depth):\n",
    "        if (X.shape[0] < self.min_samples_split) or (depth == self.max_depth):\n",
    "            self.tree[node_id] = self.LEAF_TYPE, np.mean(y)\n",
    "            return\n",
    "\n",
    "        sortX, sortY = DecisionTree._sort_samples(X, y)\n",
    "\n",
    "        cumsumY2 = np.cumsum(sortY ** 2, axis=0)\n",
    "        cumsumRevY2 = np.cumsum(sortY[::-1] ** 2, axis=0)[::-1]\n",
    "\n",
    "        cumsumY = np.cumsum(sortY, axis=0)\n",
    "        cumsumRevY = np.cumsum(sortY[::-1], axis=0)[::-1]\n",
    "\n",
    "        lenArray = np.array(range(1, cumsumY.shape[0] + 1)).reshape(-1, 1)\n",
    "        left = cumsumY2 - cumsumY ** 2 / lenArray\n",
    "        right = cumsumRevY2 - cumsumRevY ** 2 / lenArray[::-1]\n",
    "\n",
    "        mse = left\n",
    "        mse[:-1] += right[1:]\n",
    "        \n",
    "        bad_features = np.where((np.max(X, axis=0) - np.min(X, axis=0)) < 1e-3)[0]\n",
    "        mse[:, bad_features] = np.nan\n",
    "        mse[np.isclose(sortX, np.roll(sortX, shift=-1, axis=0))] = np.nan\n",
    "        \n",
    "        try:\n",
    "            argmin = np.nanargmin(mse)\n",
    "        except ValueError:\n",
    "            self.tree[node_id] = self.LEAF_TYPE, np.mean(y)\n",
    "            return\n",
    "        \n",
    "        idx = argmin // mse.shape[1]\n",
    "        feature_id = argmin - idx * mse.shape[1]\n",
    "        \n",
    "        threshold = sortX[idx, feature_id]\n",
    "        Xleft, Xright, Yleft, Yright = self._div_samples(X, y, feature_id, threshold)\n",
    "\n",
    "        if Xleft.shape[0] < self.min_samples_leaf or Xright.shape[0] < self.min_samples_leaf:\n",
    "            self.tree[node_id] = self.LEAF_TYPE, np.mean(y)\n",
    "        else:\n",
    "            self.tree[node_id] = self.NON_LEAF_TYPE, feature_id, threshold\n",
    "            \n",
    "            self.__fit_node(Xleft, Yleft, 2 * node_id + 1, depth + 1)\n",
    "            self.__fit_node(Xright, Yright, 2 * node_id + 2, depth + 1)\n",
    "\n",
    "    def fit(self, X, y):\n",
    "        self.features = self.get_feature_ids(X.shape[1])\n",
    "        self.__fit_node(X[:, self.features], y, 0, 0)\n",
    "        return self\n",
    "\n",
    "    def __predict(self, X, node_id):\n",
    "        node = self.tree[node_id]\n",
    "        answer = np.zeros(X.shape[0])\n",
    "        if node[0] == self.__class__.NON_LEAF_TYPE:\n",
    "            _, feature_id, threshold = node\n",
    "            left_idx = np.where(X[:, feature_id] <= threshold)\n",
    "            right_idx = np.where(X[:, feature_id] > threshold)\n",
    "\n",
    "            answer[left_idx] = self.__predict(X[left_idx], 2 * node_id + 1)\n",
    "            answer[right_idx] = self.__predict(X[right_idx], 2 * node_id + 2)\n",
    "            return answer\n",
    "        return np.array([node[1]] * X.shape[0])\n",
    "            \n",
    "    def predict(self, X):\n",
    "        X = X[:, self.features]\n",
    "        answer = self.__predict(X, 0)\n",
    "        return answer"
   ]
  },
  {
   "cell_type": "code",
   "execution_count": 12,
   "metadata": {},
   "outputs": [
    {
     "name": "stdout",
     "output_type": "stream",
     "text": [
      "CPU times: user 664 ms, sys: 152 ms, total: 817 ms\n",
      "Wall time: 823 ms\n"
     ]
    },
    {
     "data": {
      "text/plain": [
       "<__main__.DecisionTree at 0x7fbdb90e5050>"
      ]
     },
     "execution_count": 12,
     "metadata": {},
     "output_type": "execute_result"
    }
   ],
   "source": [
    "myclf = DecisionTree(max_depth=7)\n",
    "%time myclf.fit(X_train, y_train)"
   ]
  },
  {
   "cell_type": "code",
   "execution_count": 13,
   "metadata": {},
   "outputs": [
    {
     "name": "stdout",
     "output_type": "stream",
     "text": [
      "CPU times: user 166 ms, sys: 1.54 ms, total: 168 ms\n",
      "Wall time: 167 ms\n"
     ]
    },
    {
     "data": {
      "text/plain": [
       "DecisionTreeRegressor(ccp_alpha=0.0, criterion='mse', max_depth=7,\n",
       "                      max_features=None, max_leaf_nodes=None,\n",
       "                      min_impurity_decrease=0.0, min_impurity_split=None,\n",
       "                      min_samples_leaf=1, min_samples_split=2,\n",
       "                      min_weight_fraction_leaf=0.0, presort='deprecated',\n",
       "                      random_state=None, splitter='best')"
      ]
     },
     "execution_count": 13,
     "metadata": {},
     "output_type": "execute_result"
    }
   ],
   "source": [
    "clf = DecisionTreeRegressor(max_depth=7)\n",
    "%time clf.fit(X_train, y_train)"
   ]
  },
  {
   "cell_type": "code",
   "execution_count": 14,
   "metadata": {},
   "outputs": [
    {
     "data": {
      "text/plain": [
       "0.15994301517451368"
      ]
     },
     "execution_count": 14,
     "metadata": {},
     "output_type": "execute_result"
    }
   ],
   "source": [
    "y_pred = myclf.predict(X_test)\n",
    "mean_squared_error(y_test, y_pred)"
   ]
  },
  {
   "cell_type": "code",
   "execution_count": 15,
   "metadata": {},
   "outputs": [
    {
     "data": {
      "text/plain": [
       "0.14878405733322733"
      ]
     },
     "execution_count": 15,
     "metadata": {},
     "output_type": "execute_result"
    }
   ],
   "source": [
    "y_pred = clf.predict(X_test)\n",
    "mean_squared_error(y_test, y_pred)"
   ]
  },
  {
   "cell_type": "markdown",
   "metadata": {},
   "source": [
    "### Two-class logistic regression and classification"
   ]
  },
  {
   "cell_type": "code",
   "execution_count": 91,
   "metadata": {},
   "outputs": [],
   "source": [
    "class GradientBoosting:\n",
    "    def __init__(self, learning_rate=0.95,\n",
    "                 n_estimators=100,\n",
    "                 max_depth=3,\n",
    "                 base_estimator=DecisionTreeRegressor):\n",
    "\n",
    "        self.learning_rate = learning_rate\n",
    "        self.n_estimators = n_estimators\n",
    "        self.max_depth = max_depth\n",
    "        self.base_estimator = base_estimator\n",
    "        self.estimators = [None] * self.n_estimators\n",
    "        self.weights = []\n",
    "        self.train_score_ = []\n",
    "        self.train_pred_ = []\n",
    "        \n",
    "    @staticmethod\n",
    "    def _sigmoid(x):\n",
    "        return 1 / (1 + np.exp(-x))\n",
    "\n",
    "    @staticmethod\n",
    "    def _loss(y_true, y_pred):\n",
    "        p = y_pred.copy()\n",
    "        p[np.where(p < 1e-5)] = 1e-6\n",
    "        p[np.where((1 - p) < 1e-5)] = 0.999999\n",
    "        return np.mean(- y_true * np.log(p) - (1 - y_true) * np.log(1 - p))\n",
    "\n",
    "    @staticmethod\n",
    "    def _negative_gradient(y_true, y_pred):\n",
    "        # - y*log(sigma(x)) - (1-y)*log(1-sigma(x))\n",
    "        # sigma(x)' = sigma(x) * (1 - sigma(x))\n",
    "        # dL/dx = - y*sigma*(1-sigma)/sigma + (1-y)(1-sigma)/sigma*(1-sigma) = sigma(x) - y\n",
    "        return  y_true - GradientBoosting._sigmoid(y_pred) \n",
    "\n",
    "    def _newton(self, y, a, h):\n",
    "        # sigma(x) = 1 / (1 + exp(-(h+b*a)))\n",
    "        # dx/db = (h+b*a)' = a\n",
    "        # f = dL/db = a * (sigma(x) - y)\n",
    "        # f' = (a * (sigma(x) - y))' = a * sigma(x)' * (h+b*a)' = a * sigma*(1-sigma) * a = a^2 * sigma*(1-sigma)\n",
    "        b = 0\n",
    "        while True:\n",
    "            z = h + b * a\n",
    "            f = np.sum(a * (self._sigmoid(z) - y))\n",
    "            dfdb = np.sum(np.power(a, 2) * self._sigmoid(z) * (1 - self._sigmoid(z)))\n",
    "            b = b - f / dfdb\n",
    "            if np.abs(f) < 0.0005: \n",
    "                break\n",
    "        return b\n",
    "    \n",
    "    def _get_class(self, p):\n",
    "        return np.where(p < 0.5, 0, 1)\n",
    "\n",
    "    def fit(self, X, y):\n",
    "        y_pred = np.zeros(y.shape[0])\n",
    "        for i in range(self.n_estimators):             \n",
    "            gi = self._negative_gradient(y, y_pred)\n",
    "            self.estimators[i] = self.base_estimator(max_depth=self.max_depth).fit(X, gi)\n",
    "            y_pred_new = self.estimators[i].predict(X)\n",
    "            weights = self._newton(y, y_pred_new, y_pred)\n",
    "            self.weights.append(weights)\n",
    "            y_pred = y_pred + self.learning_rate * y_pred_new * weights\n",
    "            self.train_pred_.append(y_pred)\n",
    "        return self\n",
    "\n",
    "    def predict(self, X):\n",
    "        predict = np.zeros(X.shape[0])\n",
    "        for i, model in enumerate(self.estimators):\n",
    "            predict = predict + self.learning_rate * model.predict(X) * self.weights[i]\n",
    "        return self._get_class(self._sigmoid(predict))\n",
    "     \n",
    "    def staged_decision_function(self, X):\n",
    "        predicts = []\n",
    "        predict = np.zeros(X.shape[0])\n",
    "        for i, model in enumerate(self.estimators):\n",
    "            predict = predict + self.learning_rate * model.predict(X) * self.weights[i]\n",
    "            predicts.append(self._sigmoid(predict))\n",
    "        return predicts"
   ]
  },
  {
   "cell_type": "code",
   "execution_count": 101,
   "metadata": {},
   "outputs": [],
   "source": [
    "N_ESTIMATORS = 600"
   ]
  },
  {
   "cell_type": "code",
   "execution_count": 102,
   "metadata": {},
   "outputs": [
    {
     "data": {
      "text/plain": [
       "0.8753861997940268"
      ]
     },
     "execution_count": 102,
     "metadata": {},
     "output_type": "execute_result"
    }
   ],
   "source": [
    "myclf = GradientBoosting(n_estimators=N_ESTIMATORS)\n",
    "myclf.fit(X_train, y_train)\n",
    "y_pred = myclf.predict(X_test)\n",
    "f1_score(y_test, y_pred)"
   ]
  },
  {
   "cell_type": "code",
   "execution_count": 103,
   "metadata": {},
   "outputs": [
    {
     "data": {
      "text/plain": [
       "0.9553156771683193"
      ]
     },
     "execution_count": 103,
     "metadata": {},
     "output_type": "execute_result"
    }
   ],
   "source": [
    "from sklearn.ensemble import GradientBoostingClassifier\n",
    "\n",
    "clf = GradientBoostingClassifier(learning_rate=0.95, n_estimators=N_ESTIMATORS, max_depth=3)\n",
    "clf.fit(X_train, y_train)\n",
    "y_pred = clf.predict(X_test)\n",
    "f1_score(y_test, y_pred)"
   ]
  },
  {
   "cell_type": "code",
   "execution_count": 104,
   "metadata": {},
   "outputs": [
    {
     "name": "stdout",
     "output_type": "stream",
     "text": [
      "sklearn last train loss = 0.00017526802755241902\n",
      "threshold 3% = 5.2580408265725705e-06\n",
      "my last train loss = 8.253899013745461e-05\n"
     ]
    },
    {
     "data": {
      "image/png": "[encoded data removed]",
      "text/plain": [
       "<Figure size 720x432 with 1 Axes>"
      ]
     },
     "metadata": {
      "needs_background": "light"
     },
     "output_type": "display_data"
    }
   ],
   "source": [
    "plt.figure(figsize=(10, 6))\n",
    "plt.title('Classifiers train comparison')\n",
    "train_score_ = [myclf._loss(y_train, myclf._sigmoid(y_pred)) for y_pred in myclf.train_pred_]\n",
    "plt.plot(np.arange(N_ESTIMATORS) + 1, clf.train_score_, 'm-', label='sklearn train')\n",
    "plt.plot(np.arange(N_ESTIMATORS) + 1, train_score_, 'c-', label='my train')\n",
    "plt.plot(np.arange(N_ESTIMATORS) + 1,[x * 1.03 for x in clf.train_score_], 'm-', linestyle='--')\n",
    "plt.plot(np.arange(N_ESTIMATORS) + 1,[x * 0.97 for x in clf.train_score_], 'm-', linestyle='--')\n",
    "plt.legend(loc='upper right')\n",
    "plt.xlabel('Boosting Iterations')\n",
    "plt.ylabel('Loss')\n",
    "print(f\"sklearn last train loss = {clf.train_score_[-1]}\")\n",
    "print(f\"threshold 3% = {0.03 * clf.train_score_[-1]}\")\n",
    "print(f\"my last train loss = {train_score_[-1]}\")"
   ]
  },
  {
   "cell_type": "code",
   "execution_count": 105,
   "metadata": {},
   "outputs": [
    {
     "name": "stdout",
     "output_type": "stream",
     "text": [
      "sklearn last test loss = 1.2233071964120705\n",
      "threshold 3% = 0.036699215892362115\n",
      "my last test loss = 1.5513632011485856\n"
     ]
    },
    {
     "data": {
      "image/png": "[encoded data removed]",
      "text/plain": [
       "<Figure size 720x432 with 1 Axes>"
      ]
     },
     "metadata": {
      "needs_background": "light"
     },
     "output_type": "display_data"
    }
   ],
   "source": [
    "base_test_score = np.zeros(N_ESTIMATORS)\n",
    "my_test_score = np.zeros(N_ESTIMATORS)\n",
    "for i, y_pred in enumerate(clf.staged_decision_function(X_test)):\n",
    "    base_test_score[i] = clf.loss_(y_test, y_pred) \n",
    "for i, y_pred in enumerate(myclf.staged_decision_function(X_test)):\n",
    "    my_test_score[i] = myclf._loss(y_test, y_pred)\n",
    "\n",
    "plt.figure(figsize=(10, 6))\n",
    "plt.title('Classifiers test comparison')\n",
    "plt.plot(np.arange(N_ESTIMATORS) + 1, base_test_score, 'r-', label='sklearn test')\n",
    "plt.plot(np.arange(N_ESTIMATORS) + 1, my_test_score, 'g-', label='my test')\n",
    "plt.plot([x * 1.03 for x in base_test_score], 'r-', linestyle='--')\n",
    "plt.plot([x * 0.97 for x in base_test_score], 'r-', linestyle='--')\n",
    "plt.legend(loc='upper right')\n",
    "plt.xlabel('Boosting Iterations')\n",
    "plt.ylabel('Loss')\n",
    "\n",
    "print(f\"sklearn last test loss = {base_test_score[-1]}\")\n",
    "print(f\"threshold 3% = {0.03 * base_test_score[-1]}\")\n",
    "print(f\"my last test loss = {my_test_score[-1]}\")"
   ]
  },
  {
   "cell_type": "code",
   "execution_count": 98,
   "metadata": {},
   "outputs": [],
   "source": [
    "class BagBoo:\n",
    "    \n",
    "    def __init__(self, n_estimators=10, max_samples=1.0, max_features=1.0):\n",
    "        \"\"\"\n",
    "        max_samples: float, proportion of samples to draw from X to train each base estimator\n",
    "        max_features: float, proportion of features to draw from X to train each base estimator\n",
    "        \"\"\"\n",
    "        self.n_estimators = n_estimators\n",
    "        self.estimators = [GradientBoosting() for i in range(self.n_estimators)]\n",
    "        self.max_samples = max_samples\n",
    "        self.max_features = max_features\n",
    "        self.features_ids_list = []\n",
    "    \n",
    "    def fit(self, X_train, y_train):\n",
    "        samples_num = int(self.max_samples * X_train.shape[0])\n",
    "        features_num = int(self.max_features * X_train.shape[1])\n",
    "        for estimator in self.estimators:\n",
    "            samples_ids = np.random.choice(X_train.shape[0], samples_num, replace=True)\n",
    "            features_ids = np.random.choice(X_train.shape[1], features_num, replace=False)\n",
    "            self.features_ids_list.append(features_ids)\n",
    "            estimator.fit(X_train[samples_ids][:, features_ids], y_train[samples_ids])\n",
    "        \n",
    "    def predict(self, X_test):\n",
    "        predictions = []\n",
    "        for i in range(self.n_estimators):\n",
    "            predictions.append(self.estimators[i].predict(X_test[:,self.features_ids_list[i]]))\n",
    "        return stats.mode(predictions)[0][0]"
   ]
  },
  {
   "cell_type": "code",
   "execution_count": 99,
   "metadata": {},
   "outputs": [
    {
     "data": {
      "text/plain": [
       "0.9639746883027379"
      ]
     },
     "execution_count": 99,
     "metadata": {},
     "output_type": "execute_result"
    }
   ],
   "source": [
    "bagboo = BagBoo(10, 0.7)\n",
    "bagboo.fit(X_train, y_train)\n",
    "y_pred = bagboo.predict(X_test)\n",
    "f1_score(y_test, y_pred)"
   ]
  },
  {
   "cell_type": "code",
   "execution_count": 100,
   "metadata": {},
   "outputs": [
    {
     "data": {
      "text/plain": [
       "0.9772995833074197"
      ]
     },
     "execution_count": 100,
     "metadata": {},
     "output_type": "execute_result"
    }
   ],
   "source": [
    "from sklearn.ensemble import BaggingClassifier\n",
    "\n",
    "bagboo_sklearn = BaggingClassifier(base_estimator=GradientBoostingClassifier(loss='deviance'), \n",
    "                n_estimators=10, \n",
    "                max_samples=0.7)\n",
    "bagboo_sklearn.fit(X_train, y_train)\n",
    "y_pred = bagboo_sklearn.predict(X_test)\n",
    "f1_score(y_test, y_pred)"
   ]
  },
  {
   "cell_type": "code",
   "execution_count": null,
   "metadata": {},
   "outputs": [],
   "source": []
  }
 ],
 "metadata": {
  "kernelspec": {
   "display_name": "Python 3",
   "language": "python",
   "name": "python3"
  },
  "language_info": {
   "codemirror_mode": {
    "name": "ipython",
    "version": 3
   },
   "file_extension": ".py",
   "mimetype": "text/x-python",
   "name": "python",
   "nbconvert_exporter": "python",
   "pygments_lexer": "ipython3",
   "version": "3.7.6"
  }
 },
 "nbformat": 4,
 "nbformat_minor": 4
}
