{
 "cells": [
  {
   "cell_type": "markdown",
   "metadata": {},
   "source": [
    "## Learning to rank\n",
    "\n",
    "Требуется реализовать алгоритм машинного обучения ранжированию и с его помощью выбрать 5 наиболее релевантных документов, отсортировать их по убыванию релевантности."
   ]
  },
  {
   "cell_type": "code",
   "execution_count": 1,
   "metadata": {},
   "outputs": [],
   "source": [
    "import numpy as np\n",
    "from xgboost import XGBRegressor\n",
    "from sklearn.datasets import load_svmlight_file\n",
    "from collections import defaultdict"
   ]
  },
  {
   "cell_type": "code",
   "execution_count": 2,
   "metadata": {},
   "outputs": [],
   "source": [
    "X, y, query_ids = load_svmlight_file('l2r/train.txt', query_id=True)"
   ]
  },
  {
   "cell_type": "markdown",
   "metadata": {},
   "source": [
    "https://logic.pdmi.ras.ru/~sergey/teaching/mlspsu17/21-learningtorank.pdf\n",
    "\n",
    "http://citeseerx.ist.psu.edu/viewdoc/download?doi=10.1.1.180.634&rep=rep1&type=pdf"
   ]
  },
  {
   "cell_type": "markdown",
   "metadata": {},
   "source": [
    "1. каждая строка файла соответствует номеру документа\n",
    "\n",
    "2. query_ids - qid для кажой строки соответствует номеру запроса\n",
    "\n",
    "3. y - каждой паре (doc_id, query_id) соответствует число - рейтинг документа по запросу (правильная метка) \n",
    "\n",
    "4. X - разреженная матрица признаков для пар (doc_id, query_id)"
   ]
  },
  {
   "cell_type": "markdown",
   "metadata": {},
   "source": [
    "### Метрики ранжирования\n",
    "\n",
    "$$ DCG_k = \\sum_{i=1}^{k} \\frac{2^{r_i} - 1}{\\log_2(1 + i)}$$\n",
    "\n",
    "$$ NDSG_k = \\frac{DCG_k}{IDCG_k} $$\n",
    "\n",
    "$r_i$ - рейтинг документа на позиции i\n",
    "\n",
    "$k$ - число документов\n",
    "\n",
    "$IDCG_k$ - значение $DCG_k$ при ранжировании по истинным значениям"
   ]
  },
  {
   "cell_type": "markdown",
   "metadata": {},
   "source": [
    "### LambdaMART\n",
    "\n",
    "$x_i$ - векторы признаков\n",
    "\n",
    "$y_i$ - правильные метки\n",
    "\n",
    "$s_i = F(x_i)$ - предсказание модели (рейтинг документа)\n",
    "\n",
    "$s_{ij} = s_i - s_j = F(x_i) - F(x_j)$\n",
    "\n",
    "$y_{ij} = y_i - y_j$\n",
    "\n",
    "$C_{ij} = C(s_{ij}) = s_i - s_j + \\log(1 + e^{s_i - s_j})$ - функция ошибки\n",
    "\n",
    "$\\frac{\\partial{C_{ij}}}{\\partial{s_{ij}}} = - \\frac{1}{1 + e^{s_{ij}}}$\n",
    "\n",
    "$\\lambda_{ij} = y_{ij}|\\Delta NDCG \\frac{\\partial{C_{ij}}}{\\partial{s_{ij}}}|$\n",
    "\n",
    "$\\Delta NDCG$ - изменение $NDCG$ при обмене позиций документов с номерами i и j  "
   ]
  },
  {
   "cell_type": "markdown",
   "metadata": {},
   "source": [
    "$grad_i = \\lambda_i = \\sum_{j} \\lambda_{ij} = \\sum_{j} y_{ij}|\\Delta NDCG \\frac{1}{1 + e^{s_{ij}}}|$ - градиенты\n",
    "\n",
    "$hess_i = \\frac{\\partial{y_i}}{\\partial{F(x_i)}} = \\sum_{j}|\\Delta NDCG \\frac{1}{1 + e^{s_{ij}}} (1 - \\frac{1}{1 + e^{s_{ij}}})|$ - вторые производные"
   ]
  },
  {
   "cell_type": "code",
   "execution_count": 3,
   "metadata": {},
   "outputs": [],
   "source": [
    "class LambdaMART:\n",
    "    def __init__(self, X, y, query_ids, mode=\"train\"):\n",
    "        self.X = X\n",
    "        self.y = y\n",
    "        self.query_ids = query_ids\n",
    "        self.query2docs = defaultdict(list)\n",
    "        \n",
    "        for doc_id, query_id in enumerate(query_ids):\n",
    "            self.query2docs[query_id].append(doc_id)\n",
    "        \n",
    "        if mode == 'train':\n",
    "            self.query2idcg_5 = dict()\n",
    "            for query_id in self.query2docs:\n",
    "                self.query2idcg_5[query_id] = self.IDCG_k(self.y[self.query2docs[query_id]], k=5)\n",
    "            self.query_y_ij = dict()\n",
    "            for query_id in self.query2docs:\n",
    "                docs = self.query2docs[query_id]\n",
    "                y = self.y[docs]\n",
    "                y_ij = np.zeros((len(docs), len(docs)))\n",
    "                y_ij += (y.reshape(-1, 1) > y).astype(int)\n",
    "                y_ij -= (y.reshape(-1, 1) < y).astype(int)\n",
    "                self.query_y_ij[query_id] = y_ij\n",
    "    \n",
    "    @staticmethod\n",
    "    def IDCG_k(y, k=None):\n",
    "        sorted_y = np.sort(y)[::-1]\n",
    "        if k:\n",
    "            size = y.shape[0] if y.shape[0] < k else k\n",
    "            sorted_y = sorted_y[:size]\n",
    "        idcg = np.sum((2.0 ** sorted_y - 1) / np.log(np.arange(1, sorted_y.shape[0] + 1) + 1))\n",
    "        if np.isclose(idcg, 0.0):\n",
    "            return 1.0\n",
    "        return idcg\n",
    "    \n",
    "    def objective(self, y_true, y_pred):\n",
    "        grad = np.zeros(self.y.shape[0])\n",
    "        hess = np.zeros(self.y.shape[0])\n",
    "        for query_id in self.query2docs:\n",
    "            docs = np.array(self.query2docs[query_id])\n",
    "            s_i = y_pred[docs]\n",
    "            s_ij = np.abs(s_i.reshape(-1, 1) - s_i)\n",
    "            s_ij[s_ij > 50] = 50\n",
    "            dC_ds = 1.0 / (1 + np.exp(s_ij)) # without sign\n",
    "    \n",
    "            sorted_ids = np.argsort(s_i)[::-1]\n",
    "            sorted_ids_mask = (sorted_ids < 5).astype(int)\n",
    "            idcg_5 = self.query2idcg_5[query_id]\n",
    "            y_i = self.y[docs]\n",
    "            y_ij = self.query_y_ij[query_id]\n",
    "            \n",
    "            delta_ndcg = np.abs((2 ** y_i.reshape(-1, 1) - 2 ** y_i)\n",
    "                * ((sorted_ids_mask.reshape(-1, 1) / (np.log(sorted_ids.reshape(-1, 1) + 2)))\n",
    "                   - (sorted_ids_mask / (np.log(sorted_ids + 2))))) / idcg_5\n",
    "            \n",
    "            grad[docs] = -np.sum(y_ij * delta_ndcg * dC_ds, axis=1) # sign\n",
    "            hess[docs] = np.sum(delta_ndcg * dC_ds * (1 - dC_ds), axis=1)\n",
    "            hess[np.isclose(hess, 0.0)] = 1.0\n",
    "        return grad, hess"
   ]
  },
  {
   "cell_type": "code",
   "execution_count": 4,
   "metadata": {},
   "outputs": [],
   "source": [
    "train = LambdaMART(X, y, query_ids)"
   ]
  },
  {
   "cell_type": "code",
   "execution_count": 5,
   "metadata": {},
   "outputs": [
    {
     "name": "stdout",
     "output_type": "stream",
     "text": [
      "CPU times: user 5h 56min 16s, sys: 4min 30s, total: 6h 46s\n",
      "Wall time: 12h 17min 21s\n"
     ]
    },
    {
     "data": {
      "text/plain": [
       "XGBRegressor(base_score=0.5, booster=None, colsample_bylevel=1,\n",
       "             colsample_bynode=1, colsample_bytree=1, gamma=0, gpu_id=-1,\n",
       "             importance_type='gain', interaction_constraints=None,\n",
       "             learning_rate=0.300000012, max_delta_step=0, max_depth=5,\n",
       "             min_child_weight=1, missing=nan, monotone_constraints=None,\n",
       "             n_estimators=500, n_jobs=-1, nthread=-1, num_parallel_tree=1,\n",
       "             objective=<bound method LambdaMART.objective of <__main__.LambdaMART object at 0x7faa268e5890>>,\n",
       "             random_state=0, reg_alpha=0, reg_lambda=1, scale_pos_weight=1,\n",
       "             subsample=1, tree_method=None, validate_parameters=False,\n",
       "             verbosity=None)"
      ]
     },
     "execution_count": 5,
     "metadata": {},
     "output_type": "execute_result"
    }
   ],
   "source": [
    "%%time\n",
    "params = {'objective': train.objective, 'max_depth': 5, 'nthread': -1, 'n_estimators': 500}\n",
    "model = XGBRegressor(**params)\n",
    "model.fit(X, y)"
   ]
  },
  {
   "cell_type": "code",
   "execution_count": 6,
   "metadata": {},
   "outputs": [],
   "source": [
    "X_test, y_test, query_ids_test = load_svmlight_file('l2r/test.txt', query_id=True)\n",
    "test = LambdaMART(X_test, y_test, query_ids_test, mode=\"test\")\n",
    "y_pred = model.predict(test.X)"
   ]
  },
  {
   "cell_type": "code",
   "execution_count": 7,
   "metadata": {},
   "outputs": [],
   "source": [
    "with open(\"submission.txt\", 'w') as write_file:\n",
    "    print(\"QueryId,DocumentId\", file=write_file)\n",
    "    for query_id in test.query2docs:\n",
    "        docs = test.query2docs[query_id]\n",
    "        y_pred_i = y_pred[docs]\n",
    "        sorted_ids = np.argsort(y_pred_i)[::-1]\n",
    "        sorted_docs = np.array(docs)[sorted_ids]\n",
    "        for doc_id in sorted_docs:\n",
    "            print(f\"{query_id},{doc_id+1}\", file=write_file)"
   ]
  },
  {
   "cell_type": "code",
   "execution_count": null,
   "metadata": {},
   "outputs": [],
   "source": []
  }
 ],
 "metadata": {
  "kernelspec": {
   "display_name": "Python 3",
   "language": "python",
   "name": "python3"
  },
  "language_info": {
   "codemirror_mode": {
    "name": "ipython",
    "version": 3
   },
   "file_extension": ".py",
   "mimetype": "text/x-python",
   "name": "python",
   "nbconvert_exporter": "python",
   "pygments_lexer": "ipython3",
   "version": "3.7.6"
  }
 },
 "nbformat": 4,
 "nbformat_minor": 4
}
